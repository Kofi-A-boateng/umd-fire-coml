{
  "nbformat": 4,
  "nbformat_minor": 0,
  "metadata": {
    "colab": {
      "provenance": []
    },
    "kernelspec": {
      "name": "python3",
      "display_name": "Python 3"
    },
    "language_info": {
      "name": "python"
    },
    "accelerator": "GPU"
  },
  "cells": [
    {
      "cell_type": "code",
      "execution_count": null,
      "metadata": {
        "colab": {
          "base_uri": "https://localhost:8080/"
        },
        "id": "4JJctTou4jqx",
        "outputId": "db9cb8ec-e03b-4bd9-b351-080ba8e99f34"
      },
      "outputs": [
        {
          "output_type": "stream",
          "name": "stdout",
          "text": [
            "Mounted at /content/drive\n"
          ]
        }
      ],
      "source": [
        "from google.colab import drive\n",
        "drive.mount('/content/drive')"
      ]
    },
    {
      "cell_type": "code",
      "source": [
        "#Get tensorflor and tf.keras\n",
        "import tensorflow as tf\n",
        "from tensorflow import keras\n",
        "\n",
        "#helper libraries\n",
        "import numpy as np\n",
        "import matplotlib.pyplot as plt\n",
        "import pandas as pd\n",
        "\n",
        "print(tf.__version__)"
      ],
      "metadata": {
        "colab": {
          "base_uri": "https://localhost:8080/"
        },
        "id": "SCt77aXYm5M1",
        "outputId": "4151bcd9-1b7d-4a1e-8eeb-418bff6e0db9"
      },
      "execution_count": null,
      "outputs": [
        {
          "output_type": "stream",
          "name": "stdout",
          "text": [
            "2.8.0\n"
          ]
        }
      ]
    },
    {
      "cell_type": "code",
      "source": [
        "#Load MNIST\n",
        "digits_mnist = keras.datasets.mnist\n",
        "\n",
        "#extract the dataset into tuples of numpy arrays\n",
        "(x_train, y_train), (x_test, y_test) = digits_mnist.load_data()"
      ],
      "metadata": {
        "colab": {
          "base_uri": "https://localhost:8080/"
        },
        "id": "DH7nXuh9nRDh",
        "outputId": "461c4c15-6eab-4c83-9464-ca7527c05a1a"
      },
      "execution_count": null,
      "outputs": [
        {
          "output_type": "stream",
          "name": "stdout",
          "text": [
            "Downloading data from https://storage.googleapis.com/tensorflow/tf-keras-datasets/mnist.npz\n",
            "11493376/11490434 [==============================] - 0s 0us/step\n",
            "11501568/11490434 [==============================] - 0s 0us/step\n"
          ]
        }
      ]
    },
    {
      "cell_type": "code",
      "source": [
        "x_train = x_train.astype('float32') / 255\n",
        "x_test = x_test.astype('float32')/255"
      ],
      "metadata": {
        "id": "ArKHVTdfniaS"
      },
      "execution_count": null,
      "outputs": []
    },
    {
      "cell_type": "code",
      "source": [
        "model = keras.models.Sequential()\n",
        "\n",
        "#Flatten Layer\n",
        "model.add(keras.layers.Flatten(input_shape=(28,28)))\n",
        "\n",
        "#Dense layer\n",
        "model.add(keras.layers.Dense(128, activation = 'relu'))\n",
        "\n",
        "#Output layer\n",
        "model.add(keras.layers.Dense(10, activation = 'softmax'))\n"
      ],
      "metadata": {
        "id": "CIkBGKcUnnYn"
      },
      "execution_count": null,
      "outputs": []
    },
    {
      "cell_type": "code",
      "source": [
        "model.compile(optimizer = 'adam',\n",
        "              loss ='sparse_categorical_crossentropy',\n",
        "              metrics = ['accuracy'])"
      ],
      "metadata": {
        "id": "F8-1NaTVoWrS"
      },
      "execution_count": null,
      "outputs": []
    },
    {
      "cell_type": "code",
      "source": [
        "model.fit(x_train, y_train, epochs=10)\n",
        "\n",
        "test_loss, test_acc = model.evaluate(x_test, y_test, verbose=2)\n",
        "print('\\nTest Accuracy: ', test_acc)"
      ],
      "metadata": {
        "colab": {
          "base_uri": "https://localhost:8080/"
        },
        "id": "aKQQvbVIom9J",
        "outputId": "731e5f8e-c7b7-4f40-d50f-61af4d9ac57c"
      },
      "execution_count": null,
      "outputs": [
        {
          "output_type": "stream",
          "name": "stdout",
          "text": [
            "Epoch 1/10\n",
            "1875/1875 [==============================] - 6s 2ms/step - loss: 0.2626 - accuracy: 0.9245\n",
            "Epoch 2/10\n",
            "1875/1875 [==============================] - 4s 2ms/step - loss: 0.1162 - accuracy: 0.9656\n",
            "Epoch 3/10\n",
            "1875/1875 [==============================] - 4s 2ms/step - loss: 0.0791 - accuracy: 0.9759\n",
            "Epoch 4/10\n",
            "1875/1875 [==============================] - 4s 2ms/step - loss: 0.0583 - accuracy: 0.9822\n",
            "Epoch 5/10\n",
            "1875/1875 [==============================] - 4s 2ms/step - loss: 0.0462 - accuracy: 0.9854\n",
            "Epoch 6/10\n",
            "1875/1875 [==============================] - 5s 2ms/step - loss: 0.0359 - accuracy: 0.9888\n",
            "Epoch 7/10\n",
            "1875/1875 [==============================] - 4s 2ms/step - loss: 0.0287 - accuracy: 0.9913\n",
            "Epoch 8/10\n",
            "1875/1875 [==============================] - 5s 3ms/step - loss: 0.0233 - accuracy: 0.9927\n",
            "Epoch 9/10\n",
            "1875/1875 [==============================] - 6s 3ms/step - loss: 0.0197 - accuracy: 0.9939\n",
            "Epoch 10/10\n",
            "1875/1875 [==============================] - 4s 2ms/step - loss: 0.0154 - accuracy: 0.9955\n",
            "313/313 - 1s - loss: 0.0850 - accuracy: 0.9775 - 1s/epoch - 4ms/step\n",
            "\n",
            "Test Accuracy:  0.9775000214576721\n"
          ]
        }
      ]
    },
    {
      "cell_type": "code",
      "source": [
        "k = 61 # used to test images\n",
        "\n",
        "#Show image and label\n",
        "test_image = x_test[k]\n",
        "plt.imshow(test_image)\n",
        "plt.show()\n",
        "print(\"Ground Truth:\", y_test[k])\n",
        "\n",
        "#predict and print the Predicted Digit Probabilities from the model\n",
        "\n",
        "input = np.expand_dims(test_image, axis = 0)\n",
        "predicted_digit_probabilities = model.predict(input)\n",
        "print(\"Predicted Digit Provabilities:\", predicted_digit_probabilities)\n",
        "\n",
        "#print the most probable digit from the Predicted Digit Probabilities\n",
        "predicted_digit = np.argmax(predicted_digit_probabilities) #get array index of the max val\n",
        "print(\"Precited Digit:\", predicted_digit)"
      ],
      "metadata": {
        "colab": {
          "base_uri": "https://localhost:8080/",
          "height": 330
        },
        "id": "GiW8Ai36p5MX",
        "outputId": "0c0f3ed7-df54-432f-bdc9-48fe641e570f"
      },
      "execution_count": null,
      "outputs": [
        {
          "output_type": "display_data",
          "data": {
            "image/png": "[encoded data removed]",
            "text/plain": [
              "<Figure size 432x288 with 1 Axes>"
            ]
          },
          "metadata": {
            "needs_background": "light"
          }
        },
        {
          "output_type": "stream",
          "name": "stdout",
          "text": [
            "Ground Truth: 8\n",
            "Predicted Digit Provabilities: [[9.4622374e-07 1.2971296e-11 1.8694361e-03 7.9101461e-08 3.2134545e-10\n",
            "  1.5364372e-09 5.0808250e-08 5.1521489e-09 9.9812955e-01 1.8552425e-09]]\n",
            "Precited Digit: 8\n"
          ]
        }
      ]
    },
    {
      "cell_type": "code",
      "source": [
        "import os\n",
        "import glob\n",
        "import numpy as np\n",
        "from PIL import Image\n",
        "\n",
        "x_custom = []\n",
        "y_custom = []\n",
        "#Use glove to get a list of paths of .png files in the my_data folder\n",
        "paths = glob.glob(\"/content/my_data/*.png\")\n",
        "\n",
        "for path in paths:\n",
        "  #read the file to image\n",
        "  image = Image.open(path)\n",
        "\n",
        "  #convert the image to numpy array\n",
        "  data = np.asarray(image)\n",
        "\n",
        "  #convert RGB to grayscale by selecting one color channel\n",
        "  data = data[:,:,0]\n",
        "\n",
        "  #convert to float\n",
        "  data = data.astype('float32')/255\n",
        "\n",
        "  #invert values from black to white\n",
        "  data = 1 - data\n",
        "\n",
        "  #add converted image data to x_custom\n",
        "  x_custom.append(data)\n",
        "\n",
        "  #get the filename from path\n",
        "  filename = os.path.basename(path)\n",
        "\n",
        "  #get the label from filename\n",
        "  label = filename.split(\"_\")[0]\n",
        "\n",
        "  #add label as int to y_custom\n",
        "  y_custom.append(int(label))\n",
        "\n",
        "\n",
        "\n",
        "i = 0\n",
        "plt.imshow(x_custom[i])\n",
        "plt.show()\n",
        "print(f\"Label: {y_custom[i]}\")"
      ],
      "metadata": {
        "colab": {
          "base_uri": "https://localhost:8080/",
          "height": 281
        },
        "id": "xOwBmaaerKpd",
        "outputId": "19730b3d-a2b3-4495-c00a-4e468799dda3"
      },
      "execution_count": null,
      "outputs": [
        {
          "output_type": "display_data",
          "data": {
            "image/png": "[encoded data removed]",
            "text/plain": [
              "<Figure size 432x288 with 1 Axes>"
            ]
          },
          "metadata": {
            "needs_background": "light"
          }
        },
        {
          "output_type": "stream",
          "name": "stdout",
          "text": [
            "Label: 6\n"
          ]
        }
      ]
    },
    {
      "cell_type": "code",
      "source": [
        "custom_loss, custom_acc = model.evaluate(np.asarray(x_custom), np.asarray(y_custom), verbose = 2)\n",
        "print('Accuracy on a custom dataset: ', custom_acc)"
      ],
      "metadata": {
        "colab": {
          "base_uri": "https://localhost:8080/"
        },
        "id": "KhvAPl43scr_",
        "outputId": "72f52e7c-87ac-4cbc-fa39-cb472c7a4b00"
      },
      "execution_count": null,
      "outputs": [
        {
          "output_type": "stream",
          "name": "stdout",
          "text": [
            "1/1 - 0s - loss: 5.0548 - accuracy: 0.5000 - 95ms/epoch - 95ms/step\n",
            "Accuracy on a custom dataset:  0.5\n"
          ]
        }
      ]
    },
    {
      "cell_type": "code",
      "source": [
        "k = 9 # used to test images\n",
        "\n",
        "#Show image and label\n",
        "test_image = x_custom[k]\n",
        "plt.imshow(test_image)\n",
        "plt.show()\n",
        "print(\"Ground Truth:\", y_custom[k])\n",
        "\n",
        "#predict and print the Predicted Digit Probabilities from the model\n",
        "\n",
        "input = np.expand_dims(test_image, axis = 0)\n",
        "predicted_digit_probabilities = model.predict(input)\n",
        "print(\"Predicted Digit Provabilities:\", predicted_digit_probabilities)\n",
        "\n",
        "#print the most probable digit from the Predicted Digit Probabilities\n",
        "predicted_digit = np.argmax(predicted_digit_probabilities) #get array index of the max val\n",
        "print(\"Precited Digit:\", predicted_digit)"
      ],
      "metadata": {
        "colab": {
          "base_uri": "https://localhost:8080/",
          "height": 330
        },
        "id": "5B9oN6m8v3fO",
        "outputId": "6a883273-000c-45c2-be15-eaed51191178"
      },
      "execution_count": null,
      "outputs": [
        {
          "output_type": "display_data",
          "data": {
            "image/png": "[encoded data removed]",
            "text/plain": [
              "<Figure size 432x288 with 1 Axes>"
            ]
          },
          "metadata": {
            "needs_background": "light"
          }
        },
        {
          "output_type": "stream",
          "name": "stdout",
          "text": [
            "Ground Truth: 8\n",
            "Predicted Digit Provabilities: [[2.2772531e-10 3.2516572e-15 5.3700703e-12 9.2310067e-08 6.8919259e-16\n",
            "  2.0503861e-09 1.9089303e-12 2.8008802e-15 9.9999988e-01 5.6625180e-09]]\n",
            "Precited Digit: 8\n"
          ]
        }
      ]
    }
  ]
}